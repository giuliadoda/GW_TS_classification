{
 "cells": [
  {
   "cell_type": "markdown",
   "id": "eaa12ebb",
   "metadata": {},
   "source": [
    "# Gravitational Waves Time Series Classification\n",
    "\n",
    "Here we present a work based on *Neural network time-series classifiers for gravitational-wave searches in single-detector periods* by A. Trovato et al, 2024 Class. Quantum Grav. 41 125003."
   ]
  },
  {
   "cell_type": "code",
   "execution_count": 1,
   "id": "806d2ff3",
   "metadata": {},
   "outputs": [],
   "source": [
    "import numpy as np\n",
    "import matplotlib.pyplot as plt\n",
    "\n",
    "import torch\n",
    "import torch.nn as nn\n",
    "import torch.optim as optim\n",
    "from torchmetrics.classification import MulticlassAccuracy\n",
    "from torch.utils.data import DataLoader\n",
    "\n",
    "from pytorch_tcn import TCN\n",
    "\n",
    "from codecarbon import EmissionsTracker\n",
    "\n",
    "from sklearn.metrics import confusion_matrix, ConfusionMatrixDisplay\n",
    "\n",
    "import time\n",
    "\n",
    "from utils import dataset, plots, metrics"
   ]
  },
  {
   "cell_type": "code",
   "execution_count": 2,
   "id": "8ff24997",
   "metadata": {},
   "outputs": [],
   "source": [
    "seed = 0\n",
    "batch_size = 32\n",
    "LR = 1e-04\n",
    "nw = 4\n",
    "n_epochs = 50\n",
    "n_classes = 2 \n",
    "std = False"
   ]
  },
  {
   "cell_type": "code",
   "execution_count": 3,
   "id": "c2f023bb",
   "metadata": {},
   "outputs": [
    {
     "name": "stdout",
     "output_type": "stream",
     "text": [
      "GPU availble\n",
      "SELECTED DEVICE: cuda\n"
     ]
    }
   ],
   "source": [
    "# check if GPU is available\n",
    "if torch.cuda.is_available():\n",
    "    print('GPU availble')\n",
    "    # define the device\n",
    "    device = torch.device(\"cuda\")\n",
    "else:\n",
    "    print('GPU not availble')\n",
    "    device = torch.device(\"cpu\")\n",
    "\n",
    "print(f\"SELECTED DEVICE: {device}\")"
   ]
  },
  {
   "cell_type": "code",
   "execution_count": 4,
   "id": "f021b278",
   "metadata": {},
   "outputs": [],
   "source": [
    "classes = ['Noise', 'Signal']\n",
    "\n",
    "# plot signal probability distribution\n",
    "def plot_PS(model, probs, labels, n_classes=2):\n",
    "\n",
    "    fig, ax = plt.subplots(figsize=(10,6))\n",
    "    ax.grid(alpha=0.3)\n",
    "\n",
    "    for c in range(n_classes):\n",
    "        mask = (labels == c)\n",
    "        ax.hist(probs[mask, 1], bins=50, alpha=0.6, label=classes[c])\n",
    "\n",
    "    ax.set_xlabel('predicted signal probability')\n",
    "    ax.set_ylabel('counts')\n",
    "    ax.set_yscale('log')\n",
    "    ax.set_title('Predicted signal probability distribution for '+model)\n",
    "    ax.legend(title='True class')\n",
    "\n",
    "    plt.show()"
   ]
  },
  {
   "cell_type": "markdown",
   "id": "c3ffa63d",
   "metadata": {},
   "source": [
    "## Data\n",
    "\n",
    "We retrieve three examples, one for each original class, of signals. "
   ]
  },
  {
   "cell_type": "code",
   "execution_count": 6,
   "id": "1e8f5bf8",
   "metadata": {},
   "outputs": [],
   "source": [
    "valid_set = dataset.GW_dataset('validation', n_classes=n_classes, std=std)"
   ]
  },
  {
   "cell_type": "code",
   "execution_count": 11,
   "id": "9890a576",
   "metadata": {},
   "outputs": [],
   "source": [
    "# Define target amplitudes per label\n",
    "target_amplitude = {0: 5, 1: 6, 2: 25}\n",
    "\n",
    "# Collect all samples per class\n",
    "all_samples = {label: [] for label in range(n_classes)}\n",
    "\n",
    "for data, label in valid_set:\n",
    "    data = data.reshape(2048)\n",
    "    amplitude = data.abs().max().item()\n",
    "    target = target_amplitude.get(label, None)\n",
    "\n",
    "    if target is not None:\n",
    "        # Store distance to target\n",
    "        distance = abs(amplitude - target)\n",
    "        all_samples[label].append((distance, data, amplitude))\n",
    "\n",
    "# For each class, sort by closeness to target amplitude and keep the best 3\n",
    "timeseries = {\n",
    "    label: [d for _, d, _ in sorted(samples, key=lambda x: x[0])[:3]]\n",
    "    for label, samples in all_samples.items()\n",
    "}"
   ]
  },
  {
   "cell_type": "code",
   "execution_count": null,
   "id": "b4e52863",
   "metadata": {},
   "outputs": [],
   "source": [
    "ts = [timeseries[0][0], timeseries[1][2], timeseries[2][0]]\n",
    "plots.plot_TS(ts)"
   ]
  },
  {
   "cell_type": "markdown",
   "id": "dd6c23eb",
   "metadata": {},
   "source": [
    "## CNN paper"
   ]
  },
  {
   "cell_type": "code",
   "execution_count": 7,
   "id": "1f6a3cbc",
   "metadata": {},
   "outputs": [],
   "source": [
    "# model\n",
    "class CNN_paper(nn.Module):\n",
    "\n",
    "    def __init__(self):\n",
    "        super().__init__() \n",
    "\n",
    "        self.conv1 = nn.Sequential(\n",
    "            nn.Conv1d(in_channels=1, \n",
    "                      out_channels=256, \n",
    "                      kernel_size=16, \n",
    "                      stride=4),\n",
    "            nn.MaxPool1d(kernel_size=4, stride = 1), # default stride: kernel_size \n",
    "            nn.Dropout(0.1),\n",
    "            nn.ReLU(True))\n",
    "        \n",
    "        self.conv2 = nn.Sequential(\n",
    "            nn.Conv1d(in_channels=256, \n",
    "                      out_channels=128, \n",
    "                      kernel_size=8, \n",
    "                      stride=4),\n",
    "            nn.MaxPool1d(kernel_size=4, stride = 1),\n",
    "            nn.Dropout(0.1),\n",
    "            nn.ReLU(True))\n",
    "        \n",
    "        self.conv3 = nn.Sequential(\n",
    "            nn.Conv1d(in_channels=128, \n",
    "                      out_channels=64, \n",
    "                      kernel_size=8, \n",
    "                      stride=2),\n",
    "            nn.MaxPool1d(kernel_size=2, stride = 1),\n",
    "            nn.Dropout(0.25),\n",
    "            nn.ReLU(True))\n",
    "\n",
    "        self.conv4 = nn.Sequential(\n",
    "            nn.Conv1d(in_channels=64, \n",
    "                      out_channels=64, \n",
    "                      kernel_size=4, \n",
    "                      stride=1),\n",
    "            nn.MaxPool1d(kernel_size=2, stride = 1),\n",
    "            nn.Dropout(0.25),\n",
    "            nn.ReLU(True),\n",
    "            nn.AdaptiveAvgPool1d(1),\n",
    "            nn.Dropout(0.1)\n",
    "        )\n",
    "        \n",
    "        self.lin = nn.Sequential(\n",
    "            nn.Linear(in_features=64, \n",
    "                      out_features=n_classes))\n",
    "        \n",
    "        self.softmax = nn.Softmax(dim=1)\n",
    "\n",
    "    def forward(self, x):\n",
    "        # apply conv layers\n",
    "        x = self.conv1(x)\n",
    "        x = self.conv2(x)\n",
    "        x = self.conv3(x)\n",
    "        x = self.conv4(x)\n",
    "        x = x.squeeze(-1) # remove last dim that is 1\n",
    "        # apply linear layer\n",
    "        out = self.lin(x)\n",
    "        # apply softmax\n",
    "        out = self.softmax(out)\n",
    "        return out "
   ]
  },
  {
   "cell_type": "code",
   "execution_count": 8,
   "id": "63605ed3",
   "metadata": {},
   "outputs": [],
   "source": [
    "# retrieve model\n",
    "\n",
    "path = '/mnt/POD/NNDL_gd/code/GW_TS_classification_copy/models/'\n",
    "\n",
    "cnn_paper = CNN_paper()\n",
    "cnn_paper.load_state_dict(torch.load(path+'CNN_paper_trained.torch'))\n",
    "\n",
    "cnn_paper = cnn_paper.to(device)"
   ]
  },
  {
   "cell_type": "code",
   "execution_count": 9,
   "id": "a0ea94cc",
   "metadata": {},
   "outputs": [],
   "source": [
    "# testing\n",
    "test_set = dataset.GW_dataset('test', n_classes=n_classes)\n",
    "test_DL = DataLoader(test_set, batch_size=batch_size, num_workers=nw)"
   ]
  },
  {
   "cell_type": "code",
   "execution_count": 10,
   "id": "61a92541",
   "metadata": {},
   "outputs": [],
   "source": [
    "cnn_paper.eval()\n",
    "cnn_p_preds, cnn_p_labels, cnn_p_probs = [], [], []\n",
    "with torch.no_grad():\n",
    "    for sample in test_DL:\n",
    "        xb = sample[0].float().to(device)\n",
    "        yb = sample[1].long().to(device)\n",
    "\n",
    "        out = cnn_paper(xb)\n",
    "\n",
    "        preds = torch.argmax(out, dim=1)\n",
    "\n",
    "        cnn_p_preds.append(preds.cpu().numpy())\n",
    "        cnn_p_labels.append(yb.cpu().numpy())\n",
    "        cnn_p_probs.append(out.cpu().numpy())\n",
    "\n",
    "cnn_p_preds = np.concatenate(cnn_p_preds)\n",
    "cnn_p_labels = np.concatenate(cnn_p_labels)\n",
    "cnn_p_probs = np.concatenate(cnn_p_probs)"
   ]
  },
  {
   "cell_type": "code",
   "execution_count": 11,
   "id": "d14e074c",
   "metadata": {},
   "outputs": [],
   "source": [
    "# ROC\n",
    "cnn_p_fpr, cnn_p_tpr, cnn_p_auc = metrics.compute_roc(cnn_p_probs, cnn_p_labels, num_classes=n_classes)"
   ]
  },
  {
   "cell_type": "code",
   "execution_count": 12,
   "id": "9fc6de7e",
   "metadata": {},
   "outputs": [],
   "source": [
    "# CM\n",
    "cnn_p_cm = confusion_matrix(cnn_p_labels, cnn_p_preds)"
   ]
  },
  {
   "cell_type": "code",
   "execution_count": 13,
   "id": "f1f9e894",
   "metadata": {},
   "outputs": [
    {
     "data": {
      "text/plain": [
       "array([[222086,   2913],\n",
       "       [ 13072, 174428]])"
      ]
     },
     "execution_count": 13,
     "metadata": {},
     "output_type": "execute_result"
    }
   ],
   "source": [
    "cnn_p_cm"
   ]
  },
  {
   "cell_type": "markdown",
   "id": "3703b690",
   "metadata": {},
   "source": [
    "## CNN"
   ]
  },
  {
   "cell_type": "code",
   "execution_count": 16,
   "id": "56bb1923",
   "metadata": {},
   "outputs": [],
   "source": [
    "# model\n",
    "class CNN(nn.Module):\n",
    "\n",
    "    def __init__(self):\n",
    "        super().__init__() \n",
    "\n",
    "        self.conv1 = nn.Sequential(\n",
    "            nn.Conv1d(in_channels=1, \n",
    "                      out_channels=32, \n",
    "                      kernel_size=4, \n",
    "                      stride=1),\n",
    "            nn.MaxPool1d(kernel_size=2, stride = 1), # default stride: kernel_size \n",
    "            nn.Dropout(0.1),\n",
    "            nn.ReLU(True))\n",
    "        \n",
    "        self.conv2 = nn.Sequential(\n",
    "            nn.Conv1d(in_channels=32, \n",
    "                      out_channels=64, \n",
    "                      kernel_size=4, \n",
    "                      stride=2),\n",
    "            nn.MaxPool1d(kernel_size=2, stride = 1),\n",
    "            nn.Dropout(0.1),\n",
    "            nn.ReLU(True))\n",
    "        \n",
    "        self.conv3 = nn.Sequential(\n",
    "            nn.Conv1d(in_channels=64, \n",
    "                      out_channels=128, \n",
    "                      kernel_size=8, \n",
    "                      stride=2),\n",
    "            nn.MaxPool1d(kernel_size=4, stride = 1),\n",
    "            nn.Dropout(0.25),\n",
    "            nn.ReLU(True))\n",
    "\n",
    "        self.conv4 = nn.Sequential(\n",
    "            nn.Conv1d(in_channels=128, \n",
    "                      out_channels=256, \n",
    "                      kernel_size=16, \n",
    "                      stride=4),\n",
    "            nn.MaxPool1d(kernel_size=4, stride = 1),\n",
    "            nn.Dropout(0.25),\n",
    "            nn.ReLU(True),\n",
    "            nn.AdaptiveAvgPool1d(1),\n",
    "            nn.Dropout(0.1)\n",
    "        )\n",
    "        \n",
    "        self.lin = nn.Sequential(\n",
    "            nn.Linear(in_features=256, \n",
    "                      out_features=64),\n",
    "            nn.Linear(in_features=64, \n",
    "                      out_features=n_classes))\n",
    "        \n",
    "        self.softmax = nn.Softmax(dim=1)\n",
    "\n",
    "    def forward(self, x):\n",
    "        # apply conv layers\n",
    "        x = self.conv1(x)\n",
    "        x = self.conv2(x)\n",
    "        x = self.conv3(x)\n",
    "        x = self.conv4(x)\n",
    "        x = x.squeeze(-1) # remove last dim that is 1\n",
    "        # apply linear layer\n",
    "        out = self.lin(x)\n",
    "        # apply softmax\n",
    "        out = self.softmax(out)\n",
    "        return out "
   ]
  },
  {
   "cell_type": "code",
   "execution_count": 17,
   "id": "66cddc2d",
   "metadata": {},
   "outputs": [],
   "source": [
    "# retrieve model\n",
    "\n",
    "cnn = CNN()\n",
    "cnn.load_state_dict(torch.load(path+'CNN_trained.torch'))\n",
    "\n",
    "cnn = cnn.to(device)"
   ]
  },
  {
   "cell_type": "code",
   "execution_count": 18,
   "id": "36d390e5",
   "metadata": {},
   "outputs": [],
   "source": [
    "# testing\n",
    "cnn.eval()\n",
    "cnn_preds, cnn_labels, cnn_probs = [], [], []\n",
    "with torch.no_grad():\n",
    "    for sample in test_DL:\n",
    "        xb = sample[0].float().to(device)\n",
    "        yb = sample[1].long().to(device)\n",
    "\n",
    "        out = cnn(xb)\n",
    "\n",
    "        preds = torch.argmax(out, dim=1)\n",
    "\n",
    "        cnn_preds.append(preds.cpu().numpy())\n",
    "        cnn_labels.append(yb.cpu().numpy())\n",
    "        cnn_probs.append(out.cpu().numpy())\n",
    "\n",
    "cnn_preds = np.concatenate(cnn_preds)\n",
    "cnn_labels = np.concatenate(cnn_labels)\n",
    "cnn_probs = np.concatenate(cnn_probs)"
   ]
  },
  {
   "cell_type": "code",
   "execution_count": 19,
   "id": "ef37d0de",
   "metadata": {},
   "outputs": [],
   "source": [
    "# CM\n",
    "cnn_cm = confusion_matrix(cnn_labels, cnn_preds)"
   ]
  },
  {
   "cell_type": "code",
   "execution_count": 20,
   "id": "435f6ab2",
   "metadata": {},
   "outputs": [
    {
     "data": {
      "text/plain": [
       "array([[221290,   3709],\n",
       "       [ 14796, 172704]])"
      ]
     },
     "execution_count": 20,
     "metadata": {},
     "output_type": "execute_result"
    }
   ],
   "source": [
    "cnn_cm"
   ]
  },
  {
   "cell_type": "code",
   "execution_count": 21,
   "id": "f813fb88",
   "metadata": {},
   "outputs": [],
   "source": [
    "# ROC\n",
    "cnn_fpr, cnn_tpr, cnn_auc = metrics.compute_roc(cnn_probs, cnn_labels, num_classes=n_classes)"
   ]
  },
  {
   "cell_type": "markdown",
   "id": "a45f0d51",
   "metadata": {},
   "source": [
    "## TCN"
   ]
  },
  {
   "cell_type": "code",
   "execution_count": 24,
   "id": "ae1b90a9",
   "metadata": {},
   "outputs": [],
   "source": [
    "# model\n",
    "class TempConvNet(nn.Module):\n",
    "  def __init__(self,\n",
    "               n_layers=8,          # number of dilated convolutional layers\n",
    "               n_filters=32,        # number of filters in each conv layer\n",
    "               filter_size=16,      # kernel size\n",
    "               num_classes=n_classes        # number of classes to perform classification\n",
    "               ):\n",
    "    super().__init__()\n",
    "\n",
    "    self.n_layers = n_layers\n",
    "    self.n_filters = n_filters\n",
    "    self.kernel_size = filter_size\n",
    "\n",
    "    channels = np.full(n_layers,n_filters)\n",
    "\n",
    "    self.tcn = TCN(\n",
    "        num_inputs=1,\n",
    "        num_channels=channels,\n",
    "        kernel_size=filter_size,\n",
    "        dropout=0.1\n",
    "    )\n",
    "\n",
    "    self.final_layer = nn.Sequential(\n",
    "        nn.Dropout(0.1),\n",
    "        nn.Linear(n_filters, num_classes),\n",
    "        nn.Softmax(dim=1)\n",
    "    )\n",
    "\n",
    "  def forward(self, x):\n",
    "    out = self.tcn(x)\n",
    "    out = out[:,:,-1]\n",
    "    out = self.final_layer(out)\n",
    "    return out\n",
    "\n",
    "  def compute_R(self):\n",
    "    d_tot = 0\n",
    "    for d in range(self.n_layers):\n",
    "      d_tot += 2**(d+1)\n",
    "    R = 1 + 2 * d_tot * (self.kernel_size-1)\n",
    "    return R"
   ]
  },
  {
   "cell_type": "code",
   "execution_count": 25,
   "id": "f58da795",
   "metadata": {},
   "outputs": [],
   "source": [
    "# retrieve model\n",
    "tcn = TempConvNet()\n",
    "tcn.load_state_dict(torch.load(path+'TCN_trained.torch'))\n",
    "\n",
    "tcn = tcn.to(device)"
   ]
  },
  {
   "cell_type": "code",
   "execution_count": 26,
   "id": "07dfd3b7",
   "metadata": {},
   "outputs": [],
   "source": [
    "# testing\n",
    "tcn.eval()\n",
    "tcn_preds, tcn_labels, tcn_probs = [], [], []\n",
    "with torch.no_grad():\n",
    "    for sample in test_DL:\n",
    "        xb = sample[0].float().to(device)\n",
    "        yb = sample[1].long().to(device)\n",
    "\n",
    "        out = tcn(xb)\n",
    "\n",
    "        preds = torch.argmax(out, dim=1)\n",
    "\n",
    "        tcn_preds.append(preds.cpu().numpy())\n",
    "        tcn_labels.append(yb.cpu().numpy())\n",
    "        tcn_probs.append(out.cpu().numpy())\n",
    "\n",
    "tcn_preds = np.concatenate(tcn_preds)\n",
    "tcn_labels = np.concatenate(tcn_labels)\n",
    "tcn_probs = np.concatenate(tcn_probs)"
   ]
  },
  {
   "cell_type": "code",
   "execution_count": 27,
   "id": "8790d448",
   "metadata": {},
   "outputs": [],
   "source": [
    "# CM\n",
    "tcn_cm = confusion_matrix(tcn_labels, tcn_preds)"
   ]
  },
  {
   "cell_type": "code",
   "execution_count": 28,
   "id": "c5464062",
   "metadata": {},
   "outputs": [
    {
     "data": {
      "text/plain": [
       "array([[222421,   2578],\n",
       "       [  6833, 180667]])"
      ]
     },
     "execution_count": 28,
     "metadata": {},
     "output_type": "execute_result"
    }
   ],
   "source": [
    "tcn_cm"
   ]
  },
  {
   "cell_type": "code",
   "execution_count": 29,
   "id": "bd09fb9d",
   "metadata": {},
   "outputs": [],
   "source": [
    "# ROC\n",
    "tcn_fpr, tcn_tpr, tcn_auc = metrics.compute_roc(tcn_probs, tcn_labels, num_classes=n_classes)"
   ]
  },
  {
   "cell_type": "markdown",
   "id": "44582501",
   "metadata": {},
   "source": [
    "## IT"
   ]
  },
  {
   "cell_type": "code",
   "execution_count": 31,
   "id": "47816f7e",
   "metadata": {},
   "outputs": [],
   "source": [
    "# model\n",
    "\n",
    "class InceptionModule(nn.Module):\n",
    "\n",
    "    def __init__(self,\n",
    "                 in_channels=1,\n",
    "                 nb_filters=32, # number of conv filters in each branch of the IM\n",
    "                 kernel_sizes=(10, 20, 40),\n",
    "                 bottleneck_size=32):\n",
    "\n",
    "        super().__init__()\n",
    "\n",
    "        ### 1: bottleneck + conv branch ###\n",
    "        # bottleneck\n",
    "        self.bottleneck = nn.Conv1d(in_channels, bottleneck_size, kernel_size=1, bias=False)\n",
    "\n",
    "        # parallel convolutions (3 branches, note that there is no bias)\n",
    "        self.conv_list = nn.ModuleList()\n",
    "        for k in kernel_sizes:\n",
    "            self.conv_list.append(\n",
    "                nn.Conv1d(bottleneck_size, nb_filters, kernel_size=k, padding='same', bias=False)\n",
    "            )\n",
    "\n",
    "        ### 2: maxpool branch: maxpool then convolution ###\n",
    "        self.mp_branch = nn.Sequential(\n",
    "            nn.MaxPool1d(kernel_size=3, stride=1, padding=1),\n",
    "            nn.Conv1d(in_channels, nb_filters, kernel_size=1, bias=False)\n",
    "        )\n",
    "\n",
    "        # output layer (to be applied to concatenated branches output)\n",
    "        # concatenation applies along channel dimension\n",
    "        # so we have to compute how many channels we have in total:\n",
    "        #   - parallel convolution contribution: len(kernel_sizes) * nb_filters channels\n",
    "        #   - maxpool branch contribution: nb_filters channels\n",
    "        out_channels = nb_filters * (len(kernel_sizes) + 1)\n",
    "        self.output_layer = nn.Sequential(\n",
    "            nn.BatchNorm1d(out_channels), # output shape is same as input\n",
    "            nn.ReLU()\n",
    "        )\n",
    "\n",
    "    def forward(self, x):\n",
    "\n",
    "        # 1: bottleneck + conv branch\n",
    "        x_b = self.bottleneck(x)\n",
    "        conv_outs = [ conv(x_b) for conv in self.conv_list]\n",
    "\n",
    "        # 2: maxpool branch\n",
    "        mp = self.mp_branch(x)\n",
    "\n",
    "        # concatenate branches outputs\n",
    "        conv_outs.append(mp)\n",
    "        out = torch.cat(conv_outs, dim=1)  # concat on channel dim\n",
    "        # output\n",
    "        out = self.output_layer(out)\n",
    "        return out\n",
    "    \n",
    "class InceptionTime(nn.Module):\n",
    "    def __init__(self,\n",
    "                 in_channels=1,\n",
    "                 depth=6,\n",
    "                 nb_filters=32,\n",
    "                 kernel_sizes=(10,20,40),\n",
    "                 bottleneck_size=32,\n",
    "                 num_classes=n_classes\n",
    "                 ):\n",
    "        super().__init__()\n",
    "\n",
    "        self.depth = depth\n",
    "        self.nb_filters = nb_filters\n",
    "        self.kernel_sizes = kernel_sizes\n",
    "\n",
    "        # first inception\n",
    "        self.inception_1 = InceptionModule(in_channels=in_channels,\n",
    "                                           nb_filters=nb_filters,\n",
    "                                           kernel_sizes=kernel_sizes,\n",
    "                                           bottleneck_size=bottleneck_size)\n",
    "\n",
    "        # channel size after each inception\n",
    "        self.out_channels = nb_filters * (len(kernel_sizes) + 1)\n",
    "\n",
    "        # shortcut layer\n",
    "        self.shortcut = nn.Sequential(\n",
    "            nn.Conv1d(self.out_channels, self.out_channels, kernel_size=1, bias=False),\n",
    "            nn.BatchNorm1d(self.out_channels),\n",
    "            nn.ReLU()\n",
    "        )\n",
    "\n",
    "        # next inception module(s)\n",
    "        self.inception = InceptionModule(in_channels=self.out_channels,\n",
    "                                         nb_filters=nb_filters,\n",
    "                                         kernel_sizes=kernel_sizes,\n",
    "                                         bottleneck_size=bottleneck_size)\n",
    "\n",
    "        # final classifier after residual blocks\n",
    "        self.final_layer = nn.Sequential(\n",
    "            nn.AdaptiveAvgPool1d(1),\n",
    "            nn.Flatten(), # since avg pool gives one dimension more\n",
    "            nn.Linear(self.out_channels, num_classes),\n",
    "            nn.Softmax(dim=1)\n",
    "        )\n",
    "\n",
    "    def forward(self, x):\n",
    "        out = self.inception_1(x)\n",
    "        for d in range(self.depth-1):\n",
    "            out = self.inception(out)\n",
    "            if d % 3 == 2:  # residual connection every 3 modules\n",
    "                out = self.shortcut(out)\n",
    "        out = self.final_layer(out)\n",
    "        return out"
   ]
  },
  {
   "cell_type": "code",
   "execution_count": 32,
   "id": "34e5185f",
   "metadata": {},
   "outputs": [],
   "source": [
    "# retrieve model\n",
    "it = InceptionTime()\n",
    "it.load_state_dict(torch.load(path+'IT_trained.torch'))\n",
    "it = it.to(device)"
   ]
  },
  {
   "cell_type": "code",
   "execution_count": 33,
   "id": "4b41c560",
   "metadata": {},
   "outputs": [
    {
     "name": "stderr",
     "output_type": "stream",
     "text": [
      "/mnt/anaconda3/envs/nndl/lib/python3.9/site-packages/torch/nn/modules/conv.py:366: UserWarning: Using padding='same' with even kernel lengths and odd dilation may require a zero-padded copy of the input be created (Triggered internally at /pytorch/aten/src/ATen/native/Convolution.cpp:1027.)\n",
      "  return F.conv1d(\n"
     ]
    }
   ],
   "source": [
    "# testing\n",
    "it.eval()\n",
    "it_preds, it_labels, it_probs = [], [], []\n",
    "with torch.no_grad():\n",
    "    for sample in test_DL:\n",
    "        xb = sample[0].float().to(device)\n",
    "        yb = sample[1].long().to(device)\n",
    "\n",
    "        out = it(xb)\n",
    "\n",
    "        preds = torch.argmax(out, dim=1)\n",
    "\n",
    "        it_preds.append(preds.cpu().numpy())\n",
    "        it_labels.append(yb.cpu().numpy())\n",
    "        it_probs.append(out.cpu().numpy())\n",
    "\n",
    "it_preds = np.concatenate(it_preds)\n",
    "it_labels = np.concatenate(it_labels)\n",
    "it_probs = np.concatenate(it_probs)"
   ]
  },
  {
   "cell_type": "code",
   "execution_count": 34,
   "id": "94d80b8a",
   "metadata": {},
   "outputs": [],
   "source": [
    "# CM\n",
    "it_cm = confusion_matrix(it_labels, it_preds)"
   ]
  },
  {
   "cell_type": "code",
   "execution_count": 35,
   "id": "9a2243c2",
   "metadata": {},
   "outputs": [
    {
     "data": {
      "text/plain": [
       "array([[159655,  65344],\n",
       "       [  5025, 182475]])"
      ]
     },
     "execution_count": 35,
     "metadata": {},
     "output_type": "execute_result"
    }
   ],
   "source": [
    "it_cm"
   ]
  },
  {
   "cell_type": "code",
   "execution_count": 36,
   "id": "6fd4f0ad",
   "metadata": {},
   "outputs": [],
   "source": [
    "# ROC\n",
    "it_fpr, it_tpr, it_auc = metrics.compute_roc(it_probs, it_labels, num_classes=n_classes)"
   ]
  },
  {
   "cell_type": "markdown",
   "id": "f861c551",
   "metadata": {},
   "source": [
    "## Performance evaluation: ROC"
   ]
  },
  {
   "cell_type": "code",
   "execution_count": 97,
   "id": "efccef89",
   "metadata": {},
   "outputs": [
    {
     "data": {
      "image/png": "[encoded data removed]",
      "text/plain": [
       "<Figure size 1000x600 with 1 Axes>"
      ]
     },
     "metadata": {},
     "output_type": "display_data"
    }
   ],
   "source": [
    "fig, ax = plt.subplots(figsize=(10,6))\n",
    "ax.grid(alpha = 0.4)\n",
    "\n",
    "ax.set_ylabel('true positive rate', fontsize=14)\n",
    "ax.set_xlabel('false positive rate', fontsize=14)\n",
    "ax.plot([0,1], [0,1], label = 'Random classifier', linestyle = 'dashed', color = 'grey')\n",
    "\n",
    "ax.plot(cnn_p_fpr[\"micro\"], cnn_p_tpr[\"micro\"], \n",
    "        label=f\"CNN paper (AUC = {cnn_p_auc['micro']:.3f})\")\n",
    "\n",
    "ax.plot(cnn_fpr[\"micro\"], cnn_tpr[\"micro\"], \n",
    "        label=f\"CNN (AUC = {cnn_auc['micro']:.3f})\")\n",
    "\n",
    "ax.plot(tcn_fpr[\"micro\"], tcn_tpr[\"micro\"], \n",
    "        label=f\"TCN (AUC = {tcn_auc['micro']:.3f})\")\n",
    "\n",
    "ax.plot(it_fpr[\"micro\"], it_tpr[\"micro\"], \n",
    "        label=f\"IT (AUC = {it_auc['micro']:.3f})\")\n",
    "\n",
    "ax.legend(fontsize=14)\n",
    "ax.tick_params(axis='both', which='minor', labelsize=12)\n",
    "ax.tick_params(axis='both', which='major', labelsize=12)\n",
    "\n",
    "fig.savefig('./plots/ROCs.png', dpi=400)\n",
    "\n",
    "plt.show()"
   ]
  },
  {
   "cell_type": "markdown",
   "id": "4fa00e67",
   "metadata": {},
   "source": [
    "## FAR evaluation\n",
    "\n",
    "The final objective is to detect with high confidence the segments with a true astrophysical signal, i.e. to classify them as signal and to reject the other segments as noise/glitch. We aim to constrain false alarms to a rate of 2/day (similarly to the current online search pipelines). "
   ]
  },
  {
   "cell_type": "code",
   "execution_count": null,
   "id": "e08fbefb",
   "metadata": {},
   "outputs": [
    {
     "name": "stdout",
     "output_type": "stream",
     "text": [
      "FAR threshold: 2.31e-05\n"
     ]
    }
   ],
   "source": [
    "sec_in_day = 24*60*60\n",
    "test_time = 412500 # seconds\n",
    "\n",
    "print(f'FAR threshold: {2/sec_in_day:.2e}')"
   ]
  },
  {
   "cell_type": "code",
   "execution_count": 58,
   "id": "f96d71ff",
   "metadata": {},
   "outputs": [
    {
     "name": "stdout",
     "output_type": "stream",
     "text": [
      "FAR for CNN paper: 7.18e-04\n"
     ]
    }
   ],
   "source": [
    "# CNN paper\n",
    "\n",
    "# probabilities for each sample to be signal\n",
    "cnn_p_ps = cnn_p_probs[:, 1] \n",
    "\n",
    "# mask to match true noise label\n",
    "cnn_p_noise_mask = (cnn_p_labels == 0) \n",
    "\n",
    "# noise samples classified as signal with probability = 1\n",
    "cnn_p_noise_count = np.sum(cnn_p_ps[cnn_p_noise_mask] == 1) \n",
    "\n",
    "print(f'FAR for CNN paper: {cnn_p_noise_count/test_time:.2e}')"
   ]
  },
  {
   "cell_type": "code",
   "execution_count": null,
   "id": "95181262",
   "metadata": {},
   "outputs": [
    {
     "name": "stdout",
     "output_type": "stream",
     "text": [
      "FAR for CNN: 6.04e-04\n"
     ]
    }
   ],
   "source": [
    "# CNN\n",
    "cnn_ps = cnn_probs[:, 1] \n",
    "cnn_noise_mask = (cnn_labels == 0)\n",
    "cnn_noise_count = np.sum(cnn_ps[cnn_noise_mask] == 1.0)\n",
    "print(f'FAR for CNN: {cnn_noise_count/test_time:.2e}')"
   ]
  },
  {
   "cell_type": "code",
   "execution_count": 48,
   "id": "dae015d3",
   "metadata": {},
   "outputs": [
    {
     "name": "stdout",
     "output_type": "stream",
     "text": [
      "FAR for TCN: 1.69e-03\n"
     ]
    }
   ],
   "source": [
    "# TCN\n",
    "tcn_ps = tcn_probs[:, 1] \n",
    "tcn_noise_mask = (tcn_labels == 0)\n",
    "tcn_noise_count = np.sum(tcn_ps[tcn_noise_mask] == 1.0)\n",
    "print(f'FAR for TCN: {tcn_noise_count/test_time:.2e}')"
   ]
  },
  {
   "cell_type": "code",
   "execution_count": 49,
   "id": "42854593",
   "metadata": {},
   "outputs": [
    {
     "name": "stdout",
     "output_type": "stream",
     "text": [
      "FAR for IT: 2.00e-02\n"
     ]
    }
   ],
   "source": [
    "# IT\n",
    "it_ps = it_probs[:, 1] \n",
    "it_noise_mask = (it_labels == 0)\n",
    "it_noise_count = np.sum(it_ps[it_noise_mask] == 1.0)\n",
    "print(f'FAR for IT: {it_noise_count/test_time:.2e}')"
   ]
  },
  {
   "cell_type": "markdown",
   "id": "425bd054",
   "metadata": {},
   "source": [
    "## PS evaluation\n",
    "\n",
    "Following the reference paper."
   ]
  },
  {
   "cell_type": "code",
   "execution_count": 92,
   "id": "1b5d25c7",
   "metadata": {},
   "outputs": [
    {
     "data": {
      "image/png": "[encoded data removed]",
      "text/plain": [
       "<Figure size 2200x500 with 4 Axes>"
      ]
     },
     "metadata": {},
     "output_type": "display_data"
    }
   ],
   "source": [
    "fig, ax = plt.subplots(ncols=4, nrows=1, figsize=(22,5))\n",
    "\n",
    "for i in range(4):\n",
    "    ax[i].grid(alpha=0.3)\n",
    "    ax[i].set_xlabel('predicted signal probability', fontsize=14)\n",
    "    ax[i].set_ylabel('counts', fontsize=14)\n",
    "\n",
    "ax[0].set_title('CNN paper', fontsize=14)\n",
    "for c in range(n_classes):\n",
    "    mask = (cnn_p_labels == c)\n",
    "    ax[0].hist(cnn_p_probs[mask,1], bins=30, alpha=0.6, label=classes[c])\n",
    "ax[0].set_yscale('log')\n",
    "\n",
    "ax[1].set_title('CNN', fontsize=14)\n",
    "for c in range(n_classes):\n",
    "    mask = (cnn_labels == c)\n",
    "    ax[1].hist(cnn_probs[mask,1], bins=30, alpha=0.6, label=classes[c])\n",
    "ax[1].set_yscale('log')\n",
    "\n",
    "ax[2].set_title('TCN', fontsize=14)\n",
    "for c in range(n_classes):\n",
    "    mask = (tcn_labels == c)\n",
    "    ax[2].hist(tcn_probs[mask,1], bins=30, alpha=0.6, label=classes[c])\n",
    "ax[2].set_yscale('log')\n",
    "\n",
    "ax[3].set_title('IT', fontsize=14)\n",
    "for c in range(n_classes):\n",
    "    mask = (it_labels == c)\n",
    "    ax[3].hist(it_probs[mask,1], bins=30, alpha=0.6, label=classes[c])\n",
    "ax[3].set_yscale('log')\n",
    "ax[3].legend(title='True class',loc='center left', bbox_to_anchor=(1, 0.5))\n",
    "\n",
    "fig.savefig('./plots/Ps_all.png', bbox_inches='tight', dpi=500)\n",
    "\n",
    "plt.show()"
   ]
  },
  {
   "cell_type": "markdown",
   "id": "e42f9993",
   "metadata": {},
   "source": [
    "## False negative evaluation\n",
    "\n",
    "To understand how much signal is lost."
   ]
  },
  {
   "cell_type": "code",
   "execution_count": 93,
   "id": "1de864c3",
   "metadata": {},
   "outputs": [
    {
     "name": "stdout",
     "output_type": "stream",
     "text": [
      "False negative rate for CNN paper: 8.56e-03\n"
     ]
    }
   ],
   "source": [
    "# CNN paper\n",
    "\n",
    "# probabilities for each sample to be noise\n",
    "cnn_p_pn = cnn_p_probs[:, 0] \n",
    "\n",
    "# mask to match true signal label\n",
    "cnn_p_signal_mask = (cnn_p_labels == 1) \n",
    "\n",
    "# signal samples classified as noise with probability = 1\n",
    "cnn_p_signal_count = np.sum(cnn_p_pn[cnn_p_noise_mask] == 1) \n",
    "\n",
    "print(f'False negative rate for CNN paper: {cnn_p_signal_count/test_time:.2e}')"
   ]
  },
  {
   "cell_type": "code",
   "execution_count": 94,
   "id": "8eb66adb",
   "metadata": {},
   "outputs": [
    {
     "name": "stdout",
     "output_type": "stream",
     "text": [
      "False negative rate for CNN: 7.01e-04\n"
     ]
    }
   ],
   "source": [
    "# CNN\n",
    "cnn_pn = cnn_probs[:, 0] \n",
    "cnn_sig_mask = (cnn_labels == 1)\n",
    "cnn_sig_count = np.sum(cnn_pn[cnn_sig_mask] == 1.0)\n",
    "print(f'False negative rate for CNN: {cnn_sig_count/test_time:.2e}')"
   ]
  },
  {
   "cell_type": "code",
   "execution_count": 95,
   "id": "1ba81205",
   "metadata": {},
   "outputs": [
    {
     "name": "stdout",
     "output_type": "stream",
     "text": [
      "False negative rate for TCN: 1.31e-02\n"
     ]
    }
   ],
   "source": [
    "# TCN\n",
    "tcn_pn = tcn_probs[:, 0] \n",
    "tcn_sig_mask = (tcn_labels == 1)\n",
    "tcn_sig_count = np.sum(tcn_pn[tcn_sig_mask] == 1.0)\n",
    "print(f'False negative rate for TCN: {tcn_sig_count/test_time:.2e}')"
   ]
  },
  {
   "cell_type": "code",
   "execution_count": 96,
   "id": "23ba3b96",
   "metadata": {},
   "outputs": [
    {
     "name": "stdout",
     "output_type": "stream",
     "text": [
      "False negative rate for IT: 1.24e-04\n"
     ]
    }
   ],
   "source": [
    "# IT\n",
    "it_pn = it_probs[:, 0] \n",
    "it_sig_mask = (it_labels == 1)\n",
    "it_sig_count = np.sum(it_pn[it_sig_mask] == 1.0)\n",
    "print(f'False negative rate for IT: {it_sig_count/test_time:.2e}')"
   ]
  }
 ],
 "metadata": {
  "kernelspec": {
   "display_name": "nndl",
   "language": "python",
   "name": "python3"
  },
  "language_info": {
   "codemirror_mode": {
    "name": "ipython",
    "version": 3
   },
   "file_extension": ".py",
   "mimetype": "text/x-python",
   "name": "python",
   "nbconvert_exporter": "python",
   "pygments_lexer": "ipython3",
   "version": "3.9.23"
  }
 },
 "nbformat": 4,
 "nbformat_minor": 5
}
