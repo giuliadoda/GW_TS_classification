{
 "cells": [
  {
   "cell_type": "code",
   "execution_count": 1,
   "id": "8d98739d",
   "metadata": {},
   "outputs": [],
   "source": [
    "import numpy as np\n",
    "import matplotlib.pyplot as plt\n",
    "\n",
    "import torch\n",
    "import torch.nn as nn\n",
    "import torch.optim as optim\n",
    "\n",
    "from utils import dataset, plots, metrics\n",
    "\n",
    "from torch.utils.data import DataLoader"
   ]
  },
  {
   "cell_type": "code",
   "execution_count": 2,
   "id": "d467daad",
   "metadata": {},
   "outputs": [],
   "source": [
    "seed = 0\n",
    "batch_size = 32\n",
    "nw = 4\n",
    "n_epochs = 50\n",
    "num_classes = 3"
   ]
  },
  {
   "cell_type": "code",
   "execution_count": 3,
   "id": "8b53eea1",
   "metadata": {},
   "outputs": [],
   "source": [
    "# model\n",
    "class CNN(nn.Module):\n",
    "\n",
    "    def __init__(self):\n",
    "        super().__init__() \n",
    "\n",
    "        self.conv1 = nn.Sequential(\n",
    "            nn.Conv1d(in_channels=1, \n",
    "                      out_channels=256, \n",
    "                      kernel_size=16, \n",
    "                      stride=4),\n",
    "            nn.MaxPool1d(kernel_size=4, stride = 1), # default stride: kernel_size :))\n",
    "            nn.Dropout(0.5),\n",
    "            nn.ReLU(True))\n",
    "        \n",
    "        self.conv2 = nn.Sequential(\n",
    "            nn.Conv1d(in_channels=256, \n",
    "                      out_channels=128, \n",
    "                      kernel_size=8, \n",
    "                      stride=2),\n",
    "            nn.MaxPool1d(kernel_size=4, stride = 1),\n",
    "            nn.Dropout(0.5),\n",
    "            nn.ReLU(True))\n",
    "        \n",
    "        self.conv3 = nn.Sequential(\n",
    "            nn.Conv1d(in_channels=128, \n",
    "                      out_channels=64, \n",
    "                      kernel_size=8, \n",
    "                      stride=2),\n",
    "            nn.MaxPool1d(kernel_size=2, stride = 1),\n",
    "            nn.Dropout(0.25),\n",
    "            nn.ReLU(True))\n",
    "\n",
    "        self.conv4 = nn.Sequential(\n",
    "            nn.Conv1d(in_channels=64, \n",
    "                      out_channels=64, \n",
    "                      kernel_size=4, \n",
    "                      stride=1),\n",
    "            nn.MaxPool1d(kernel_size=2, stride = 1),\n",
    "            nn.Dropout(0.25),\n",
    "            nn.ReLU(True),\n",
    "            nn.AdaptiveAvgPool1d(1),\n",
    "            nn.Dropout(0.1)\n",
    "        )\n",
    "        \n",
    "        self.lin = nn.Linear(in_features=64, \n",
    "                      out_features=3)\n",
    "        \n",
    "        self.softmax = nn.Softmax(dim=1)\n",
    "\n",
    "    def forward(self, x):\n",
    "        # apply conv layers\n",
    "        x = self.conv1(x)\n",
    "        x = self.conv2(x)\n",
    "        x = self.conv3(x)\n",
    "        x = self.conv4(x)\n",
    "        x = x.squeeze(-1) # remove last dim that is 1\n",
    "        # apply linear layer\n",
    "        out = self.lin(x)\n",
    "        # apply softmax\n",
    "        out = self.softmax(out)\n",
    "        return out "
   ]
  },
  {
   "cell_type": "code",
   "execution_count": 4,
   "id": "eaf04a84",
   "metadata": {},
   "outputs": [],
   "source": [
    "# load data\n",
    "train_set = dataset.GW_dataset('training')\n",
    "valid_set = dataset.GW_dataset('validation')\n",
    "test_set = dataset.GW_dataset('test')"
   ]
  },
  {
   "cell_type": "code",
   "execution_count": 5,
   "id": "4cab9eb0",
   "metadata": {},
   "outputs": [
    {
     "data": {
      "text/plain": [
       "989998"
      ]
     },
     "execution_count": 5,
     "metadata": {},
     "output_type": "execute_result"
    }
   ],
   "source": [
    "train_set.__len__()"
   ]
  },
  {
   "cell_type": "code",
   "execution_count": 6,
   "id": "4368a76d",
   "metadata": {},
   "outputs": [
    {
     "data": {
      "text/plain": [
       "247499"
      ]
     },
     "execution_count": 6,
     "metadata": {},
     "output_type": "execute_result"
    }
   ],
   "source": [
    "valid_set.__len__()"
   ]
  },
  {
   "cell_type": "code",
   "execution_count": 7,
   "id": "c5c602e5",
   "metadata": {},
   "outputs": [
    {
     "data": {
      "text/plain": [
       "412499"
      ]
     },
     "execution_count": 7,
     "metadata": {},
     "output_type": "execute_result"
    }
   ],
   "source": [
    "test_set.__len__()"
   ]
  },
  {
   "cell_type": "code",
   "execution_count": 8,
   "id": "15fb74b9",
   "metadata": {},
   "outputs": [],
   "source": [
    "train_DL = DataLoader(train_set, batch_size=batch_size, shuffle=True, num_workers=nw)\n",
    "valid_DL = DataLoader(valid_set, batch_size=batch_size, shuffle=True, num_workers=nw)\n",
    "test_DL = DataLoader(test_set, batch_size=batch_size, shuffle=True, num_workers=nw)"
   ]
  },
  {
   "cell_type": "code",
   "execution_count": 9,
   "id": "1ab4fc8f",
   "metadata": {},
   "outputs": [
    {
     "name": "stdout",
     "output_type": "stream",
     "text": [
      "GPU availble\n",
      "SELECTED DEVICE: cuda\n"
     ]
    }
   ],
   "source": [
    "# check if a cuda GPU is available\n",
    "if torch.cuda.is_available():\n",
    "    print('GPU availble')\n",
    "    # define the device\n",
    "    device = torch.device(\"cuda\")\n",
    "else:\n",
    "    print('GPU not availble')\n",
    "    device = torch.device(\"cpu\")\n",
    "\n",
    "print(f\"SELECTED DEVICE: {device}\")"
   ]
  },
  {
   "cell_type": "code",
   "execution_count": null,
   "id": "df130e08",
   "metadata": {},
   "outputs": [],
   "source": [
    "torch.manual_seed(seed)\n",
    "torch.cuda.manual_seed_all(seed)\n",
    "\n",
    "cnn_net = CNN().to(device)\n",
    "\n",
    "# loss\n",
    "loss_function = nn.CrossEntropyLoss()\n",
    "\n",
    "# optimizer\n",
    "cnn_opt = optim.Adam(cnn_net.parameters())\n",
    "\n",
    "train_loss_log = []\n",
    "train_acc_log = []\n",
    "\n",
    "val_loss_log = []\n",
    "val_acc_log = []\n",
    "\n",
    "# training/validation loop\n",
    "for epoch in range(n_epochs):\n",
    "    print(f\"\\n-----------------\\nEpoch {epoch+1}/{n_epochs}\\n-----------------\")\n",
    "\n",
    "    train_loss = []\n",
    "    correct_counts = torch.zeros(num_classes, device=device)\n",
    "    total_counts = torch.zeros(num_classes, device=device)\n",
    "\n",
    "    # training\n",
    "    for sample in train_DL:\n",
    "        # data to device\n",
    "        # sample shape: (B, 1, signal_length)\n",
    "        xb = sample[0].float().to(device)\n",
    "        yb = sample[1].long().to(device)\n",
    "\n",
    "        # forward pass\n",
    "        out = cnn_net(xb)\n",
    "\n",
    "        # loss\n",
    "        loss = loss_function(out, yb)\n",
    "\n",
    "        # backpropagation\n",
    "        cnn_opt.zero_grad()\n",
    "        loss.backward()\n",
    "\n",
    "        # weight update\n",
    "        cnn_opt.step()\n",
    "\n",
    "        # log loss\n",
    "        loss_b = l.detach().cpu().numpy()\n",
    "        train_loss.append(loss_b)\n",
    "\n",
    "        # accuracy\n",
    "        preds = out.argmax(dim=1)\n",
    "        for c in range(num_classes):\n",
    "            mask = (yb == c)\n",
    "            correct_counts[c] += (preds[mask] == c).sum()\n",
    "            total_counts[c] += mask.sum()\n",
    "\n",
    "    # average loss and accuracy\n",
    "    avg_loss = np.mean(train_loss)\n",
    "    avg_acc = {c: (correct_counts[c] / total_counts[c]).item() if total_counts[c] > 0 else np.nan for c in range(num_classes)}\n",
    "\n",
    "    train_loss_log.append(avg_loss)\n",
    "    train_acc_log.append(avg_acc)\n",
    "\n",
    "    print(f\"Train loss: {avg_loss:.4f}\")\n",
    "    for c, acc in avg_acc.items():\n",
    "        print(f\"  Class {c} accuracy: {acc:.4f}\")\n",
    "\n",
    "    # validation\n",
    "    val_loss = []\n",
    "    correct_counts = torch.zeros(num_classes, device=device)\n",
    "    total_counts = torch.zeros(num_classes, device=device)\n",
    "    cnn_net.eval()\n",
    "    with torch.no_grad():\n",
    "        for sample in valid_DL:\n",
    "            # data to device\n",
    "            xb = sample[0].float().to(device)\n",
    "            yb = sample[1].long().to(device)\n",
    "\n",
    "            # forward \n",
    "            out = cnn_net(xb)\n",
    "\n",
    "            # loss\n",
    "            l = loss_function(out, yb)\n",
    "\n",
    "            # save\n",
    "            loss_b = l.detach().cpu().numpy()\n",
    "            val_loss.append(loss_b)\n",
    "\n",
    "            # accuracy\n",
    "            preds = out.argmax(dim=1)\n",
    "            for c in range(num_classes):\n",
    "                mask = (yb == c)\n",
    "                correct_counts[c] += (preds[mask] == c).sum()\n",
    "                total_counts[c] += mask.sum()\n",
    "        \n",
    "        val_loss = np.mean(val_loss)\n",
    "        print('Validation loss:', val_loss)\n",
    "        val_loss_log.append(val_loss)\n",
    "\n",
    "        val_acc = {c: (correct_counts[c] / total_counts[c]).item() if total_counts[c] > 0 else np.nan for c in range(num_classes)}\n",
    "        val_acc_log.append(val_acc)\n",
    "\n",
    "        for c, acc in avg_acc.items():\n",
    "            print(f\"  Class {c} accuracy: {acc:.4f}\")"
   ]
  },
  {
   "cell_type": "code",
   "execution_count": null,
   "id": "064d74da",
   "metadata": {},
   "outputs": [],
   "source": [
    "plots.plot_loss_acc('CNN', train_loss_log, val_acc_log, train_acc_log, val_acc_log)"
   ]
  },
  {
   "cell_type": "code",
   "execution_count": 12,
   "id": "5447609b",
   "metadata": {},
   "outputs": [
    {
     "data": {
      "image/png": "[encoded data removed]",
      "text/plain": [
       "<Figure size 1000x600 with 1 Axes>"
      ]
     },
     "metadata": {},
     "output_type": "display_data"
    }
   ],
   "source": [
    "# epochs\n",
    "epochs = np.arange(1, len(train_loss_log) + 1)\n",
    "\n",
    "# Convert train_acc_log (list of dicts) to a dict of lists for each class\n",
    "num_classes = len(train_acc_log[0])\n",
    "per_class_acc = {c: [epoch_acc[c] for epoch_acc in train_acc_log] for c in range(num_classes)}\n",
    "\n",
    "# Plot\n",
    "fig, ax = plt.subplots(figsize=(10,6))\n",
    "ax.grid(alpha=0.4)\n",
    "\n",
    "# Plot loss\n",
    "ax.plot(epochs, train_loss_log, label='Loss', color='red', linewidth=2)\n",
    "\n",
    "# Plot per-class accuracy\n",
    "colors = ['blue', 'green', 'orange', 'purple', 'brown']  # extend if more classes\n",
    "for c in range(num_classes):\n",
    "    ax.plot(epochs, per_class_acc[c], label=f'Class {c} Accuracy', color=colors[c % len(colors)], linewidth=2)\n",
    "\n",
    "ax.set_xlabel('Epochs')\n",
    "ax.set_ylabel('Value')\n",
    "ax.set_title('Training Loss and Per-Class Accuracy')\n",
    "ax.legend()\n",
    "\n",
    "plt.show()"
   ]
  }
 ],
 "metadata": {
  "kernelspec": {
   "display_name": "nndl",
   "language": "python",
   "name": "python3"
  },
  "language_info": {
   "codemirror_mode": {
    "name": "ipython",
    "version": 3
   },
   "file_extension": ".py",
   "mimetype": "text/x-python",
   "name": "python",
   "nbconvert_exporter": "python",
   "pygments_lexer": "ipython3",
   "version": "3.9.23"
  }
 },
 "nbformat": 4,
 "nbformat_minor": 5
}
